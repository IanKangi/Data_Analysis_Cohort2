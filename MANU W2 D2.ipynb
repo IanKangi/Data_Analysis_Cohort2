{
 "cells": [
  {
   "cell_type": "markdown",
   "id": "55899cba",
   "metadata": {},
   "source": [
    "<img src=\"UoN_Logo.png\" alt=\"Image 1\" width=\"300\"/> | <img src=\"manu.jpg\" alt=\"Image 2\" width=\"150\"/>\n",
    ":---: | :---:\n",
    "Mathematics Association of Nairobi University | Instructor: Isaak Kamau\n",
    "University of Nairobi                         | https://www.linkedin.com/in/isaak-mwangi/\n"
   ]
  },
  {
   "cell_type": "markdown",
   "id": "8faf24db",
   "metadata": {},
   "source": [
    "# PYTHON WEEK 2 DAY 2"
   ]
  },
  {
   "cell_type": "markdown",
   "id": "19b028aa",
   "metadata": {},
   "source": [
    "## Functions\n",
    "A function is a block of code which only runs when it is called.\n",
    "You can pass data, known as parameters, into a function.\n",
    "A function can return data as a result.\n",
    "\n",
    "### Creating a Function\n",
    "In Python a function is defined using the def keyword:\n"
   ]
  },
  {
   "cell_type": "code",
   "execution_count": 1,
   "id": "dcb669d8",
   "metadata": {},
   "outputs": [
    {
     "name": "stdout",
     "output_type": "stream",
     "text": [
      "Hello from a function\n"
     ]
    }
   ],
   "source": [
    "#Example\n",
    "def my_function():\n",
    " print(\"Hello from a function\")\n",
    "\n",
    "\n",
    "my_function()\n"
   ]
  },
  {
   "cell_type": "markdown",
   "id": "d640df05",
   "metadata": {},
   "source": [
    "### Arguments\n",
    "Information can be passed into functions as arguments.\n",
    "\n",
    "Arguments are specified after the function name, inside the parentheses. You can add as many arguments as you want, just separate them with a comma.\n",
    "\n",
    "The following example has a function with one argument (fname). When the function is called, we pass along a first name, which is used inside the function to print the full name:\n"
   ]
  },
  {
   "cell_type": "code",
   "execution_count": 2,
   "id": "f6bc60de",
   "metadata": {},
   "outputs": [
    {
     "name": "stdout",
     "output_type": "stream",
     "text": [
      "Emil is a Student at the university of Nairobi\n",
      "Tobias is a Student at the university of Nairobi\n",
      "Linus is a Student at the university of Nairobi\n"
     ]
    }
   ],
   "source": [
    "def my_function(fname):\n",
    " print(fname + \" is a Student at the university of Nairobi\")\n",
    "my_function(\"Emil\")\n",
    "my_function(\"Tobias\")\n",
    "my_function(\"Linus\")\n"
   ]
  },
  {
   "cell_type": "code",
   "execution_count": 3,
   "id": "679a027f",
   "metadata": {},
   "outputs": [
    {
     "name": "stdout",
     "output_type": "stream",
     "text": [
      "Albert is a Student at the university of Nairobi\n"
     ]
    }
   ],
   "source": [
    "my_function(\"Albert\")\n"
   ]
  },
  {
   "cell_type": "code",
   "execution_count": 4,
   "id": "d143289b",
   "metadata": {},
   "outputs": [],
   "source": [
    "# Let's define a mathematic formula using a function, We keep multiplying the base num with pow_num (for loop)\n",
    "def raise_to_power(base_num, pow_num):\n",
    "    results = 1\n",
    "    for index in range(pow_num):\n",
    "        results *= base_num\n",
    "    return results\n",
    "        "
   ]
  },
  {
   "cell_type": "code",
   "execution_count": 5,
   "id": "fb31e191",
   "metadata": {},
   "outputs": [
    {
     "data": {
      "text/plain": [
       "100"
      ]
     },
     "execution_count": 5,
     "metadata": {},
     "output_type": "execute_result"
    }
   ],
   "source": [
    "raise_to_power(10, 2)"
   ]
  },
  {
   "cell_type": "code",
   "execution_count": 6,
   "id": "b540dbe7",
   "metadata": {},
   "outputs": [],
   "source": [
    "#function for calculating Cylinder volume \n",
    "\n",
    "def cylinder_volume(height, radius):\n",
    "    pi = 3.14159\n",
    "    return height * pi * radius ** 2"
   ]
  },
  {
   "cell_type": "code",
   "execution_count": 7,
   "id": "57c12279",
   "metadata": {},
   "outputs": [
    {
     "data": {
      "text/plain": [
       "282.7431"
      ]
     },
     "execution_count": 7,
     "metadata": {},
     "output_type": "execute_result"
    }
   ],
   "source": [
    "#After defining the cylinder_volume function, we can call the function like this.\n",
    "\n",
    "cylinder_volume(10, 3)"
   ]
  },
  {
   "cell_type": "code",
   "execution_count": 8,
   "id": "7d3d2348",
   "metadata": {},
   "outputs": [
    {
     "name": "stdout",
     "output_type": "stream",
     "text": [
      "Enter the height of the cylinder: 15\n",
      "Enter the radius of the cylinder: 7\n",
      "The volume of your cylinder is:  2309.0686499999997\n"
     ]
    }
   ],
   "source": [
    "height = int(input(\"Enter the height of the cylinder: \"))\n",
    "radius = int(input(\"Enter the radius of the cylinder: \"))\n",
    "\n",
    "print(\"The volume of your cylinder is: \", cylinder_volume(height, radius))"
   ]
  },
  {
   "cell_type": "markdown",
   "id": "587dca53",
   "metadata": {},
   "source": [
    "## Python Classes and Objects\n",
    "A `Class` is like an object constructor, or a \"blueprint\" for creating objects.\n",
    "\n",
    "### Create a Clas\n",
    "s\n",
    "To create a class, use the keyword `class`:\n",
    "\n",
    "Example:\n"
   ]
  },
  {
   "cell_type": "code",
   "execution_count": 9,
   "id": "30949603",
   "metadata": {},
   "outputs": [],
   "source": [
    "#Create a class named MyClass, with a property named x:\n",
    "\n",
    "class MyClass:\n",
    "  x = 5"
   ]
  },
  {
   "cell_type": "markdown",
   "id": "8712b12f",
   "metadata": {},
   "source": [
    "### Create Object\n",
    "Now we can use the class named MyClass to create objects:\n",
    "\n",
    "Example\n",
    "Create an object named p1, and print the value of x:"
   ]
  },
  {
   "cell_type": "code",
   "execution_count": 14,
   "id": "19ad967f",
   "metadata": {},
   "outputs": [
    {
     "name": "stdout",
     "output_type": "stream",
     "text": [
      "5\n"
     ]
    }
   ],
   "source": [
    "p1 = MyClass()\n",
    "print(p1.x)"
   ]
  },
  {
   "cell_type": "markdown",
   "id": "6d021794",
   "metadata": {},
   "source": [
    "### The `__init__()` Function\n",
    "The examples above are classes and objects in their simplest form, and are not really useful in real life applications.\n",
    "\n",
    "To understand the meaning of classes we have to understand the built-in `__init__()` function.\n",
    "\n",
    "All classes have a function called `__init__()`, which is always executed when the class is being initiated.\n",
    "\n",
    "Use the `__init__()` function to assign values to object properties, or other operations that are necessary to do when the object is being created:\n",
    "\n",
    "#### Example\n",
    "Create a class named Person, use the `__init__()` function to assign values for `name` and `age`:"
   ]
  },
  {
   "cell_type": "code",
   "execution_count": 15,
   "id": "e468206f",
   "metadata": {},
   "outputs": [
    {
     "name": "stdout",
     "output_type": "stream",
     "text": [
      "John\n",
      "22\n"
     ]
    }
   ],
   "source": [
    "class Person:\n",
    "  def __init__(self, name, age):\n",
    "    self.name = name\n",
    "    self.age = age\n",
    "\n",
    "p1 = Person(\"John\", 36)\n",
    "p2 = Person(\"Jane\", 42)\n",
    "p3 = Person(\"Peter\", 22)\n",
    "\n",
    "print(p1.name)\n",
    "print(p3.age)"
   ]
  },
  {
   "cell_type": "code",
   "execution_count": 17,
   "id": "137479a9",
   "metadata": {},
   "outputs": [
    {
     "name": "stdout",
     "output_type": "stream",
     "text": [
      "2.2\n",
      "Kikuyu Campus\n"
     ]
    }
   ],
   "source": [
    "class student:\n",
    "    def __init__(self, gender, reg_no, year_of_study, faculty, gpa):\n",
    "        self.gender = gender\n",
    "        self.reg_no = reg_no\n",
    "        self.year_of_study = year_of_study\n",
    "        self.faculty = faculty\n",
    "        self.gpa = gpa\n",
    "        \n",
    "john_Doe = student(\"Male\", \"X32/345235/2022\", 3, \"Main Campus\", 2.2)\n",
    "jane_Doe = student(\"Female\", \"F16/234234/2022\", 5, \"Kikuyu Campus\", 3.5)\n",
    "\n",
    "print(john_Doe.gpa)\n",
    "print(jane_Doe. faculty)"
   ]
  },
  {
   "cell_type": "code",
   "execution_count": 18,
   "id": "f5bcfef6",
   "metadata": {},
   "outputs": [
    {
     "name": "stdout",
     "output_type": "stream",
     "text": [
      "Enter your name: John Doe\n",
      "Enter your Registration Number: F16/24354/2025\n",
      "\n",
      "Thanks John Doe, Below is your quick test\n",
      "Select the synonym of each of the following words: \n",
      "Vicissitude\n",
      " (a) sorrows\n",
      "(b) misfortunes\n",
      "(c) changes\n",
      "(d) surprises\n",
      "\n",
      "A\n",
      "Epitome\n",
      " (a) Precise\n",
      "(b) Summary\n",
      "(c) Spurn\n",
      "(d) Exemplar\n",
      "\n",
      "b\n",
      "Imbecile\n",
      "(a) Sane\n",
      "(b) Astute\n",
      "(c) Foolish\n",
      "(d) Aid\n",
      "\n",
      "b\n",
      "Abeyance\n",
      "(a) Suspension\n",
      "(b) Persistence\n",
      "(c) Continuation\n",
      "(d) Rigid\n",
      "\n",
      "b\n",
      "Yokel\n",
      "(a) Intrigue\n",
      "(b)Simple-minded\n",
      "(c)Victorious\n",
      "(d)Noise\n",
      "\n",
      "d\n",
      "At John Doe You got 0/5 correct in your test.\n"
     ]
    },
    {
     "data": {
      "text/plain": [
       "'\\nquestion_prompts = [\\n    \"Vicissitude\\n (a) sorrows\\n(b) misfortunes\\n(c) changes\\n(d) surprises\\n\\n\"\\n    \"Epitome\\n (a) Precise\\n(b) Summary\\n(c) Spurn\\n(d) Exemplar\\n\\n\"\\n    \"Imbecile\\n(a) Sane\\n(b) Astute\\n(c) Foolish\\n(d) Aid\"\\n    \"Abeyance\\n(a) Suspension\\n(b) Persistence\\n(c) Continuation\\n(d) Rigid\\n\\n\"\\n    \"Yokel\\n(a) Intrigue\\n(b)Simple-minded\\n(c)Victorious\\n(d)Noise\\n\\n\"\\n]\\n\\n'"
      ]
     },
     "execution_count": 18,
     "metadata": {},
     "output_type": "execute_result"
    }
   ],
   "source": [
    "# Quick project\n",
    "# Building a Multiple-Choice quiz for students\n",
    "class QUESTIONS:\n",
    "    def __init__(self, prompt, answer):\n",
    "        self.prompt = prompt\n",
    "        self.answer = answer\n",
    "        \n",
    "        \n",
    "\n",
    "username = input(\"Enter your name: \")\n",
    "reg_no = input(\"Enter your Registration Number: \")\n",
    "print(\"\\nThanks \" + username + \", Below is your quick test\\nSelect the synonym of each of the following words: \")\n",
    "\n",
    "question_prompts = [\n",
    "    \"Vicissitude\\n (a) sorrows\\n(b) misfortunes\\n(c) changes\\n(d) surprises\\n\\n\",\n",
    "    \"Epitome\\n (a) Precise\\n(b) Summary\\n(c) Spurn\\n(d) Exemplar\\n\\n\",\n",
    "    \"Imbecile\\n(a) Sane\\n(b) Astute\\n(c) Foolish\\n(d) Aid\\n\\n\",\n",
    "    \"Abeyance\\n(a) Suspension\\n(b) Persistence\\n(c) Continuation\\n(d) Rigid\\n\\n\",\n",
    "    \"Yokel\\n(a) Intrigue\\n(b)Simple-minded\\n(c)Victorious\\n(d)Noise\\n\\n\",\n",
    "\n",
    "]\n",
    "QUIZS = [\n",
    "    QUESTIONS(question_prompts[0], \"c\"),\n",
    "    QUESTIONS(question_prompts[1], \"d\"),\n",
    "    QUESTIONS(question_prompts[2], \"c\"),\n",
    "    QUESTIONS(question_prompts[3], \"a\"),\n",
    "    QUESTIONS(question_prompts[4], \"b\"),\n",
    "]\n",
    "\n",
    "\n",
    "def run_test(QUESTIONS):\n",
    "    score = 0\n",
    "    for question in QUIZS:\n",
    "        answer = input(question.prompt)\n",
    "        if answer == question.answer:\n",
    "            score += 1\n",
    "    print(\"At \" + username + \" You got \" + str(score) + \"/\" + str(len(QUIZS)) + \" correct in your test.\")\n",
    "\n",
    "\n",
    "run_test(QUESTIONS);\n",
    "\n",
    "'''\n",
    "question_prompts = [\n",
    "    \"Vicissitude\\n (a) sorrows\\n(b) misfortunes\\n(c) changes\\n(d) surprises\\n\\n\"\n",
    "    \"Epitome\\n (a) Precise\\n(b) Summary\\n(c) Spurn\\n(d) Exemplar\\n\\n\"\n",
    "    \"Imbecile\\n(a) Sane\\n(b) Astute\\n(c) Foolish\\n(d) Aid\"\n",
    "    \"Abeyance\\n(a) Suspension\\n(b) Persistence\\n(c) Continuation\\n(d) Rigid\\n\\n\"\n",
    "    \"Yokel\\n(a) Intrigue\\n(b)Simple-minded\\n(c)Victorious\\n(d)Noise\\n\\n\"\n",
    "]\n",
    "\n",
    "'''\n"
   ]
  },
  {
   "cell_type": "markdown",
   "id": "c79bd5aa",
   "metadata": {},
   "source": [
    "# python modules\n",
    "\n",
    "A `python module` can be defined as a python program file which contains a python code including python functions, class, or variables. \n",
    "\n",
    "In other words, we can say that our python code file saved with the extension (`.py`) is treated as the module. We may have a runnable code inside the python module.\n",
    "\n",
    "Modules in Python provides us the flexibility to organize the code in a logical way.\n",
    "\n",
    "### Loading the module in our python code:\n",
    "We use:\n",
    "\n",
    "1. The `import` statement\n",
    "2. The `from-import` statement\n",
    "\n",
    "#### The import statement\n",
    "\n",
    "The `import` statement is used to import all the functionality of one module into another. Here, we must notice that we can use\n",
    "the functionality of any python source file by importing that file as the module into another python source file.\n",
    "\n",
    "We can `import` multiple modules with a single import statement, but a module is loaded once regardless of the number of times, it has been imported into our file.\n",
    "\n",
    "#### The from-import statement\n",
    "\n",
    "Instead of importing the whole module into the namespace,python provides the flexibility to import only the specific attributes of a module. This can be done by using `from < module-name> import <name 1>, <name 2>..,<name n>` statement."
   ]
  },
  {
   "cell_type": "markdown",
   "id": "aa9f92e2",
   "metadata": {},
   "source": [
    "We create a file `Student.py` and populate with the following code:"
   ]
  },
  {
   "cell_type": "code",
   "execution_count": 19,
   "id": "4106be17",
   "metadata": {},
   "outputs": [],
   "source": [
    "def cylinder_volume(height, radius):\n",
    "    pi = 3.14159\n",
    "    return height * pi * radius ** 2\n",
    "\n",
    "\n",
    "class student:\n",
    "    def __init__(self, gender, reg_no, year_of_study, faculty, gpa):\n",
    "        self.gender = gender\n",
    "        self.reg_no = reg_no\n",
    "        self.year_of_study = year_of_study\n",
    "        self.faculty = faculty\n",
    "        self.gpa = gpa\n",
    "\n"
   ]
  },
  {
   "cell_type": "markdown",
   "id": "7eb2c919",
   "metadata": {},
   "source": [
    "We now Import the `Student.py` in `Main.py`\n",
    "\n",
    "\n",
    "### Method 1: from Student import student\n",
    "\n",
    "This statement imports only the `student` class from the `Student` module.\n",
    "\n",
    "You can directly use the `student` class without using the module name as a prefix. For example:"
   ]
  },
  {
   "cell_type": "raw",
   "id": "18eeb9af",
   "metadata": {},
   "source": [
    "from Student import cylinder_volume\n",
    "\n",
    "volume = cylinder_volume(10, 14)\n",
    "\n",
    "print(volume)\n",
    "\n",
    "\n",
    "from Student import student\n",
    "\n",
    "john_Doe = student(\"Male\", \"X32/345235/2022\", 3, \"Main Campus\", 2.2)\n",
    "print(john_Doe.gender)\n",
    "\n"
   ]
  },
  {
   "cell_type": "markdown",
   "id": "1ef840df",
   "metadata": {},
   "source": [
    "### Method 2: import Student\n",
    "This statement imports the entire student module.\n",
    "\n",
    "To access the student class, you need to use the module name as a prefix. For example"
   ]
  },
  {
   "cell_type": "raw",
   "id": "5f8d55d9",
   "metadata": {},
   "source": [
    "import Student\n",
    "\n",
    "john_Doe = Student.student(\"Male\", \"X32/345235/2022\", 3, \"Main Campus\", 2.2)\n"
   ]
  },
  {
   "cell_type": "code",
   "execution_count": null,
   "id": "dbff8ab6",
   "metadata": {},
   "outputs": [],
   "source": []
  }
 ],
 "metadata": {
  "kernelspec": {
   "display_name": "Python 3 (ipykernel)",
   "language": "python",
   "name": "python3"
  },
  "language_info": {
   "codemirror_mode": {
    "name": "ipython",
    "version": 3
   },
   "file_extension": ".py",
   "mimetype": "text/x-python",
   "name": "python",
   "nbconvert_exporter": "python",
   "pygments_lexer": "ipython3",
   "version": "3.9.13"
  }
 },
 "nbformat": 4,
 "nbformat_minor": 5
}
